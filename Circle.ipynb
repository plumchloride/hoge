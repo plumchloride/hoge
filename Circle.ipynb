{
 "cells": [
  {
   "cell_type": "code",
   "execution_count": 1,
   "source": [
    "%matplotlib inline\r\n",
    "import matplotlib.pyplot as plt\r\n",
    "import numpy as np\r\n",
    "from matplotlib.animation import ArtistAnimation\r\n",
    "from IPython.display import HTML, Image, Video\r\n",
    "import matplotlib.lines as lines\r\n",
    "\r\n",
    "def rotation(x0,y0, th):\r\n",
    "    A = np.array([[np.cos(th), -np.sin(th)],\r\n",
    "                  [np.sin(th), np.cos(th)]])\r\n",
    "    return A.dot([x0,y0])\r\n",
    "    \r\n",
    "def here_function1(th): \r\n",
    "    x = np.cos(th)\r\n",
    "    y = np.sin(th)\r\n",
    "    return x, y\r\n",
    "\r\n",
    "start = 0 #定義域の左端\r\n",
    "last = 2*np.pi # 定義域の右端\r\n",
    "\r\n",
    "dx = 0.1\r\n",
    "th = np.arange(start,last+dx, dx)\r\n",
    "x, y = here_function1(th)\r\n",
    "\r\n",
    "fig = plt.figure(figsize=(4,4),dpi=150) # サイズを均等に\r\n",
    "ax = fig.add_subplot(1,1,1) \r\n",
    "\r\n",
    "ax.spines['right'].set_visible(False)\r\n",
    "ax.spines['top'].set_visible(False)\r\n",
    "ax.spines['bottom'].set_position('zero')\r\n",
    "ax.spines['left'].set_position('zero')\r\n",
    "ax.axis([-1.2,1.2,-1.2,1.2])\r\n",
    "\r\n",
    "ax.plot(x, y, label='circle', color='black') # 描画\r\n",
    "\r\n",
    "artist_list = []\r\n",
    "for i in range(len(th)):\r\n",
    "    art = ax.plot(x[i],0, marker='.', color='red', markersize=0, linestyle='None') # 点\r\n",
    "    for z in range(8):\r\n",
    "        tim = i - (len(th) * z/16)\r\n",
    "        if tim >= len(th):\r\n",
    "            tim -= len(th)\r\n",
    "        art += ax.plot(rotation(x[int(tim)],0, np.pi *(z)/8)[0],rotation(x[int(tim)],0, np.pi *(z)/8)[1], marker='.', color='red', markersize=15, linestyle='None') \r\n",
    "\r\n",
    "    artist_list.append(art)\r\n",
    "\r\n",
    "ax.legend(bbox_to_anchor=(1, 1), loc='upper right', borderaxespad=0, fontsize=10) # ラベルの反映\r\n",
    "ani = ArtistAnimation(fig, artist_list, interval = 50)\r\n",
    "\r\n",
    "plt.close()\r\n",
    "HTML(ani.to_jshtml())\r\n"
   ],
   "outputs": [],
   "metadata": {}
  }
 ],
 "metadata": {
  "orig_nbformat": 4,
  "language_info": {
   "name": "python",
   "version": "3.8.5",
   "mimetype": "text/x-python",
   "codemirror_mode": {
    "name": "ipython",
    "version": 3
   },
   "pygments_lexer": "ipython3",
   "nbconvert_exporter": "python",
   "file_extension": ".py"
  },
  "kernelspec": {
   "name": "python3",
   "display_name": "Python 3.8.5 32-bit"
  },
  "interpreter": {
   "hash": "580d1985f2eb64084b96cd77ae0d01b53059a45f3f7dbecd0ece7cd92eab4667"
  }
 },
 "nbformat": 4,
 "nbformat_minor": 2
}