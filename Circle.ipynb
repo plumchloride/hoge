%matplotlib inline
import matplotlib.pyplot as plt
import numpy as np
from matplotlib.animation import ArtistAnimation
from IPython.display import HTML, Image, Video
import matplotlib.lines as lines

def rotation(x0,y0, th):
    A = np.array([[np.cos(th), -np.sin(th)],
                  [np.sin(th), np.cos(th)]])
    return A.dot([x0,y0])
    
def here_function1(th): 
    x = np.cos(th)
    y = np.sin(th)
    return x, y

start = 0 #定義域の左端
last = 2*np.pi # 定義域の右端

dx = 0.1
th = np.arange(start,last+dx, dx)
x, y = here_function1(th)

fig = plt.figure(figsize=(4,4),dpi=150) # サイズを均等に
ax = fig.add_subplot(1,1,1) 

ax.spines['right'].set_visible(False)
ax.spines['top'].set_visible(False)
ax.spines['bottom'].set_position('zero')
ax.spines['left'].set_position('zero')
ax.axis([-1.2,1.2,-1.2,1.2])

ax.plot(x, y, label='circle', color='black') # 描画

artist_list = []
for i in range(len(th)):
    art = ax.plot(x[i],0, marker='.', color='red', markersize=0, linestyle='None') # 点
    for z in range(8):
        tim = i - (len(th) * z/16)
        if tim >= len(th):
            tim -= len(th)
        art += ax.plot(rotation(x[int(tim)],0, np.pi *(z)/8)[0],rotation(x[int(tim)],0, np.pi *(z)/8)[1], marker='.', color='red', markersize=15, linestyle='None') 

    artist_list.append(art)

ax.legend(bbox_to_anchor=(1, 1), loc='upper right', borderaxespad=0, fontsize=10) # ラベルの反映
ani = ArtistAnimation(fig, artist_list, interval = 50)

plt.close()
HTML(ani.to_jshtml())
